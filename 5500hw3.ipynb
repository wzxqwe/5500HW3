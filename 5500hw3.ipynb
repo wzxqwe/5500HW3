{
 "cells": [
  {
   "cell_type": "code",
   "execution_count": 140,
   "metadata": {
    "collapsed": false
   },
   "outputs": [],
   "source": [
    "import pandas as pd\n",
    "import numpy as np\n",
    "import seaborn as sns\n",
    "import matplotlib.pyplot as plt\n",
    "%matplotlib inline\n"
   ]
  },
  {
   "cell_type": "markdown",
   "metadata": {},
   "source": [
    "## Problem1 Rank State by Funding and Funding per student\n",
    "### After processing and plotting, we see California has highest total state funding while District of Columbia has highest funding per student"
   ]
  },
  {
   "cell_type": "code",
   "execution_count": 6,
   "metadata": {
    "collapsed": false
   },
   "outputs": [
    {
     "name": "stderr",
     "output_type": "stream",
     "text": [
      "C:\\Users\\hudie\\Anaconda3\\lib\\site-packages\\IPython\\core\\interactiveshell.py:2723: DtypeWarning: Columns (0,3) have mixed types. Specify dtype option on import or set low_memory=False.\n",
      "  interactivity=interactivity, compiler=compiler, result=result)\n"
     ]
    }
   ],
   "source": [
    "# read raw fiscal dta\n",
    "fiscal_data=pd.read_csv(\"Sdf16_1a.txt\", sep='\\t')\n",
    "#drop missing and na for revenue\n",
    "fiscal_data= fiscal_data[fiscal_data.TFEDREV > 0]"
   ]
  },
  {
   "cell_type": "code",
   "execution_count": 24,
   "metadata": {
    "collapsed": false,
    "scrolled": true
   },
   "outputs": [
    {
     "data": {
      "text/html": [
       "<div>\n",
       "<style scoped>\n",
       "    .dataframe tbody tr th:only-of-type {\n",
       "        vertical-align: middle;\n",
       "    }\n",
       "\n",
       "    .dataframe tbody tr th {\n",
       "        vertical-align: top;\n",
       "    }\n",
       "\n",
       "    .dataframe thead th {\n",
       "        text-align: right;\n",
       "    }\n",
       "</style>\n",
       "<table border=\"1\" class=\"dataframe\">\n",
       "  <thead>\n",
       "    <tr style=\"text-align: right;\">\n",
       "      <th></th>\n",
       "      <th>FIPST</th>\n",
       "      <th>YEAR</th>\n",
       "      <th>CCDNF</th>\n",
       "      <th>CENFILE</th>\n",
       "      <th>V33</th>\n",
       "      <th>MEMBERSCH</th>\n",
       "      <th>TOTALREV</th>\n",
       "      <th>TFEDREV</th>\n",
       "      <th>C14</th>\n",
       "      <th>C15</th>\n",
       "      <th>...</th>\n",
       "      <th>_66V</th>\n",
       "      <th>W01</th>\n",
       "      <th>W31</th>\n",
       "      <th>W61</th>\n",
       "      <th>V95</th>\n",
       "      <th>V02</th>\n",
       "      <th>K14</th>\n",
       "      <th>CE1</th>\n",
       "      <th>CE2</th>\n",
       "      <th>WEIGHT</th>\n",
       "    </tr>\n",
       "    <tr>\n",
       "      <th>STNAME</th>\n",
       "      <th></th>\n",
       "      <th></th>\n",
       "      <th></th>\n",
       "      <th></th>\n",
       "      <th></th>\n",
       "      <th></th>\n",
       "      <th></th>\n",
       "      <th></th>\n",
       "      <th></th>\n",
       "      <th></th>\n",
       "      <th></th>\n",
       "      <th></th>\n",
       "      <th></th>\n",
       "      <th></th>\n",
       "      <th></th>\n",
       "      <th></th>\n",
       "      <th></th>\n",
       "      <th></th>\n",
       "      <th></th>\n",
       "      <th></th>\n",
       "      <th></th>\n",
       "    </tr>\n",
       "  </thead>\n",
       "  <tbody>\n",
       "    <tr>\n",
       "      <th>California</th>\n",
       "      <td>6108</td>\n",
       "      <td>16288</td>\n",
       "      <td>1018</td>\n",
       "      <td>1017</td>\n",
       "      <td>6203559</td>\n",
       "      <td>6187037</td>\n",
       "      <td>89110947000</td>\n",
       "      <td>7709275000</td>\n",
       "      <td>1798207000</td>\n",
       "      <td>1821197000</td>\n",
       "      <td>...</td>\n",
       "      <td>0</td>\n",
       "      <td>4946663000</td>\n",
       "      <td>10871931000</td>\n",
       "      <td>29391495000</td>\n",
       "      <td>0</td>\n",
       "      <td>0</td>\n",
       "      <td>0</td>\n",
       "      <td>-1018</td>\n",
       "      <td>-1018</td>\n",
       "      <td>1018</td>\n",
       "    </tr>\n",
       "    <tr>\n",
       "      <th>Texas</th>\n",
       "      <td>58368</td>\n",
       "      <td>19456</td>\n",
       "      <td>1216</td>\n",
       "      <td>1044</td>\n",
       "      <td>5296442</td>\n",
       "      <td>5296378</td>\n",
       "      <td>60768409000</td>\n",
       "      <td>6194317000</td>\n",
       "      <td>1347799000</td>\n",
       "      <td>847121000</td>\n",
       "      <td>...</td>\n",
       "      <td>3618330000</td>\n",
       "      <td>2947662000</td>\n",
       "      <td>12040448000</td>\n",
       "      <td>18156976000</td>\n",
       "      <td>1196458000</td>\n",
       "      <td>0</td>\n",
       "      <td>0</td>\n",
       "      <td>41141377000</td>\n",
       "      <td>4911673000</td>\n",
       "      <td>1216</td>\n",
       "    </tr>\n",
       "    <tr>\n",
       "      <th>New York</th>\n",
       "      <td>24732</td>\n",
       "      <td>10992</td>\n",
       "      <td>687</td>\n",
       "      <td>677</td>\n",
       "      <td>2591958</td>\n",
       "      <td>2572154</td>\n",
       "      <td>67051220000</td>\n",
       "      <td>3374794000</td>\n",
       "      <td>1035611000</td>\n",
       "      <td>699120000</td>\n",
       "      <td>...</td>\n",
       "      <td>2032288000</td>\n",
       "      <td>428102000</td>\n",
       "      <td>1425604000</td>\n",
       "      <td>9234538000</td>\n",
       "      <td>0</td>\n",
       "      <td>0</td>\n",
       "      <td>0</td>\n",
       "      <td>-687</td>\n",
       "      <td>-687</td>\n",
       "      <td>687</td>\n",
       "    </tr>\n",
       "  </tbody>\n",
       "</table>\n",
       "<p>3 rows × 132 columns</p>\n",
       "</div>"
      ],
      "text/plain": [
       "            FIPST   YEAR  CCDNF  CENFILE      V33  MEMBERSCH     TOTALREV  \\\n",
       "STNAME                                                                      \n",
       "California   6108  16288   1018     1017  6203559    6187037  89110947000   \n",
       "Texas       58368  19456   1216     1044  5296442    5296378  60768409000   \n",
       "New York    24732  10992    687      677  2591958    2572154  67051220000   \n",
       "\n",
       "               TFEDREV         C14         C15  ...        _66V         W01  \\\n",
       "STNAME                                          ...                           \n",
       "California  7709275000  1798207000  1821197000  ...           0  4946663000   \n",
       "Texas       6194317000  1347799000   847121000  ...  3618330000  2947662000   \n",
       "New York    3374794000  1035611000   699120000  ...  2032288000   428102000   \n",
       "\n",
       "                    W31          W61         V95  V02  K14          CE1  \\\n",
       "STNAME                                                                    \n",
       "California  10871931000  29391495000           0    0    0        -1018   \n",
       "Texas       12040448000  18156976000  1196458000    0    0  41141377000   \n",
       "New York     1425604000   9234538000           0    0    0         -687   \n",
       "\n",
       "                   CE2  WEIGHT  \n",
       "STNAME                          \n",
       "California       -1018    1018  \n",
       "Texas       4911673000    1216  \n",
       "New York          -687     687  \n",
       "\n",
       "[3 rows x 132 columns]"
      ]
     },
     "execution_count": 24,
     "metadata": {},
     "output_type": "execute_result"
    }
   ],
   "source": [
    "rank = fiscal_data.groupby(\"STNAME\").sum().sort_values(by='TFEDREV', ascending=False)\n",
    "rank.head(3)"
   ]
  },
  {
   "cell_type": "code",
   "execution_count": 38,
   "metadata": {
    "collapsed": false
   },
   "outputs": [
    {
     "data": {
      "text/plain": [
       "<matplotlib.axes._subplots.AxesSubplot at 0x2282936b438>"
      ]
     },
     "execution_count": 38,
     "metadata": {},
     "output_type": "execute_result"
    },
    {
     "data": {
      "image/png": "[encoded data removed]",
      "text/plain": [
       "<matplotlib.figure.Figure at 0x228293e39e8>"
      ]
     },
     "metadata": {},
     "output_type": "display_data"
    }
   ],
   "source": [
    "sns.barplot( x = 'STNAME', y ='TFEDREV', data=rank.head(6).reset_index() )\n",
    "# From the plot we see California has most funding"
   ]
  },
  {
   "cell_type": "code",
   "execution_count": 52,
   "metadata": {
    "collapsed": false,
    "scrolled": true
   },
   "outputs": [
    {
     "data": {
      "text/plain": [
       "STNAME\n",
       "District of Columbia    2726.573612\n",
       "Alaska                  2319.798908\n",
       "Vermont                 1870.899241\n",
       "Louisiana               1556.713877\n",
       "New Mexico              1541.345235\n",
       "Name: fund_per_st, dtype: float64"
      ]
     },
     "execution_count": 52,
     "metadata": {},
     "output_type": "execute_result"
    }
   ],
   "source": [
    "#Next we rank state by funding per student\n",
    "rank['fund_per_st'] = rank['TFEDREV']/rank['V33']\n",
    "rank_per_st = rank.sort_values(by=\"fund_per_st\", ascending=False).head(5)\n",
    "rank_per_st['fund_per_st']"
   ]
  },
  {
   "cell_type": "code",
   "execution_count": 53,
   "metadata": {
    "collapsed": false
   },
   "outputs": [
    {
     "data": {
      "text/plain": [
       "<matplotlib.axes._subplots.AxesSubplot at 0x22828d6ea90>"
      ]
     },
     "execution_count": 53,
     "metadata": {},
     "output_type": "execute_result"
    },
    {
     "data": {
      "image/png": "[encoded data removed]",
      "text/plain": [
       "<matplotlib.figure.Figure at 0x2282a7a7f28>"
      ]
     },
     "metadata": {},
     "output_type": "display_data"
    }
   ],
   "source": [
    "sns.barplot( x = 'STNAME', y ='fund_per_st', data=rank_per_st.reset_index() )\n",
    "#we see columbia district has highest funding per student"
   ]
  },
  {
   "cell_type": "code",
   "execution_count": null,
   "metadata": {
    "collapsed": false
   },
   "outputs": [],
   "source": []
  },
  {
   "cell_type": "markdown",
   "metadata": {},
   "source": [
    "## Problem2: Visualize the relationship between school districts’ total revenue and expenditures. Which states have the most debt per student?\n",
    "\n",
    "#### From the plot we see total rev and total expenditure is positive related which makes sense as they would spend more if the get more funding( or say if the schools's expenditure is more they'll apply more funding)\n",
    "#### And we see North Dakota has highest debt(rev-expenditure) per student\n"
   ]
  },
  {
   "cell_type": "code",
   "execution_count": 61,
   "metadata": {
    "collapsed": false
   },
   "outputs": [
    {
     "name": "stderr",
     "output_type": "stream",
     "text": [
      "C:\\Users\\hudie\\Anaconda3\\lib\\site-packages\\ipykernel\\__main__.py:4: SettingWithCopyWarning: \n",
      "A value is trying to be set on a copy of a slice from a DataFrame.\n",
      "Try using .loc[row_indexer,col_indexer] = value instead\n",
      "\n",
      "See the caveats in the documentation: http://pandas.pydata.org/pandas-docs/stable/indexing.html#indexing-view-versus-copy\n"
     ]
    }
   ],
   "source": [
    "fiscal_data = fiscal_data[fiscal_data['TOTALEXP'] > 0]\n",
    "fiscal_data = fiscal_data[fiscal_data['V33'] > 0]\n",
    "p2_data = fiscal_data[['STNAME','TOTALREV','TOTALEXP','V33']]\n",
    "#get debt\n",
    "p2_data['TOTALDEBT'] = p2_data['TOTALEXP']-p2_data['TOTALREV']\n",
    "p2_data = p2_data.groupby(\"STNAME\").sum()\n",
    "#get debt/student\n",
    "p2_data['debt_per_st'] = p2_data['TOTALDEBT']/p2_data['V33']"
   ]
  },
  {
   "cell_type": "code",
   "execution_count": 62,
   "metadata": {
    "collapsed": false,
    "scrolled": true
   },
   "outputs": [
    {
     "data": {
      "text/html": [
       "<div>\n",
       "<style scoped>\n",
       "    .dataframe tbody tr th:only-of-type {\n",
       "        vertical-align: middle;\n",
       "    }\n",
       "\n",
       "    .dataframe tbody tr th {\n",
       "        vertical-align: top;\n",
       "    }\n",
       "\n",
       "    .dataframe thead th {\n",
       "        text-align: right;\n",
       "    }\n",
       "</style>\n",
       "<table border=\"1\" class=\"dataframe\">\n",
       "  <thead>\n",
       "    <tr style=\"text-align: right;\">\n",
       "      <th></th>\n",
       "      <th>TOTALREV</th>\n",
       "      <th>TOTALEXP</th>\n",
       "      <th>V33</th>\n",
       "      <th>TOTALDEBT</th>\n",
       "      <th>debt_per_st</th>\n",
       "    </tr>\n",
       "    <tr>\n",
       "      <th>STNAME</th>\n",
       "      <th></th>\n",
       "      <th></th>\n",
       "      <th></th>\n",
       "      <th></th>\n",
       "      <th></th>\n",
       "    </tr>\n",
       "  </thead>\n",
       "  <tbody>\n",
       "    <tr>\n",
       "      <th>Alabama</th>\n",
       "      <td>7607098000</td>\n",
       "      <td>7864636000</td>\n",
       "      <td>743789</td>\n",
       "      <td>257538000</td>\n",
       "      <td>346.251423</td>\n",
       "    </tr>\n",
       "    <tr>\n",
       "      <th>Alaska</th>\n",
       "      <td>2494691000</td>\n",
       "      <td>2623014000</td>\n",
       "      <td>132477</td>\n",
       "      <td>128323000</td>\n",
       "      <td>968.643614</td>\n",
       "    </tr>\n",
       "    <tr>\n",
       "      <th>Arizona</th>\n",
       "      <td>9754612000</td>\n",
       "      <td>9273737000</td>\n",
       "      <td>1078877</td>\n",
       "      <td>-480875000</td>\n",
       "      <td>-445.718094</td>\n",
       "    </tr>\n",
       "    <tr>\n",
       "      <th>Arkansas</th>\n",
       "      <td>5405694000</td>\n",
       "      <td>5420487000</td>\n",
       "      <td>491281</td>\n",
       "      <td>14793000</td>\n",
       "      <td>30.111077</td>\n",
       "    </tr>\n",
       "    <tr>\n",
       "      <th>California</th>\n",
       "      <td>88617544000</td>\n",
       "      <td>84741618000</td>\n",
       "      <td>6203660</td>\n",
       "      <td>-3875926000</td>\n",
       "      <td>-624.780533</td>\n",
       "    </tr>\n",
       "  </tbody>\n",
       "</table>\n",
       "</div>"
      ],
      "text/plain": [
       "               TOTALREV     TOTALEXP      V33   TOTALDEBT  debt_per_st\n",
       "STNAME                                                                \n",
       "Alabama      7607098000   7864636000   743789   257538000   346.251423\n",
       "Alaska       2494691000   2623014000   132477   128323000   968.643614\n",
       "Arizona      9754612000   9273737000  1078877  -480875000  -445.718094\n",
       "Arkansas     5405694000   5420487000   491281    14793000    30.111077\n",
       "California  88617544000  84741618000  6203660 -3875926000  -624.780533"
      ]
     },
     "execution_count": 62,
     "metadata": {},
     "output_type": "execute_result"
    }
   ],
   "source": [
    "p2_data.head(5)"
   ]
  },
  {
   "cell_type": "code",
   "execution_count": 64,
   "metadata": {
    "collapsed": false
   },
   "outputs": [
    {
     "data": {
      "text/plain": [
       "<matplotlib.axes._subplots.AxesSubplot at 0x22828de3c50>"
      ]
     },
     "execution_count": 64,
     "metadata": {},
     "output_type": "execute_result"
    },
    {
     "data": {
      "image/png": "[encoded data removed]",
      "text/plain": [
       "<matplotlib.figure.Figure at 0x22829362940>"
      ]
     },
     "metadata": {},
     "output_type": "display_data"
    }
   ],
   "source": [
    "sns.lineplot(x=\"TOTALREV\", y=\"TOTALEXP\", data=p2_data)"
   ]
  },
  {
   "cell_type": "code",
   "execution_count": 66,
   "metadata": {
    "collapsed": false
   },
   "outputs": [
    {
     "data": {
      "text/html": [
       "<div>\n",
       "<style scoped>\n",
       "    .dataframe tbody tr th:only-of-type {\n",
       "        vertical-align: middle;\n",
       "    }\n",
       "\n",
       "    .dataframe tbody tr th {\n",
       "        vertical-align: top;\n",
       "    }\n",
       "\n",
       "    .dataframe thead th {\n",
       "        text-align: right;\n",
       "    }\n",
       "</style>\n",
       "<table border=\"1\" class=\"dataframe\">\n",
       "  <thead>\n",
       "    <tr style=\"text-align: right;\">\n",
       "      <th></th>\n",
       "      <th>TOTALREV</th>\n",
       "      <th>TOTALEXP</th>\n",
       "      <th>V33</th>\n",
       "      <th>TOTALDEBT</th>\n",
       "      <th>debt_per_st</th>\n",
       "    </tr>\n",
       "    <tr>\n",
       "      <th>STNAME</th>\n",
       "      <th></th>\n",
       "      <th></th>\n",
       "      <th></th>\n",
       "      <th></th>\n",
       "      <th></th>\n",
       "    </tr>\n",
       "  </thead>\n",
       "  <tbody>\n",
       "    <tr>\n",
       "      <th>North Dakota</th>\n",
       "      <td>1708995000</td>\n",
       "      <td>1882038000</td>\n",
       "      <td>108343</td>\n",
       "      <td>173043000</td>\n",
       "      <td>1597.177483</td>\n",
       "    </tr>\n",
       "    <tr>\n",
       "      <th>District of Columbia</th>\n",
       "      <td>2121210000</td>\n",
       "      <td>2232976000</td>\n",
       "      <td>82974</td>\n",
       "      <td>111766000</td>\n",
       "      <td>1347.000265</td>\n",
       "    </tr>\n",
       "    <tr>\n",
       "      <th>Alaska</th>\n",
       "      <td>2494691000</td>\n",
       "      <td>2623014000</td>\n",
       "      <td>132477</td>\n",
       "      <td>128323000</td>\n",
       "      <td>968.643614</td>\n",
       "    </tr>\n",
       "    <tr>\n",
       "      <th>Nebraska</th>\n",
       "      <td>4252096000</td>\n",
       "      <td>4491448000</td>\n",
       "      <td>315542</td>\n",
       "      <td>239352000</td>\n",
       "      <td>758.542444</td>\n",
       "    </tr>\n",
       "    <tr>\n",
       "      <th>Minnesota</th>\n",
       "      <td>12377927000</td>\n",
       "      <td>12921241000</td>\n",
       "      <td>861905</td>\n",
       "      <td>543314000</td>\n",
       "      <td>630.364135</td>\n",
       "    </tr>\n",
       "  </tbody>\n",
       "</table>\n",
       "</div>"
      ],
      "text/plain": [
       "                         TOTALREV     TOTALEXP     V33  TOTALDEBT  debt_per_st\n",
       "STNAME                                                                        \n",
       "North Dakota           1708995000   1882038000  108343  173043000  1597.177483\n",
       "District of Columbia   2121210000   2232976000   82974  111766000  1347.000265\n",
       "Alaska                 2494691000   2623014000  132477  128323000   968.643614\n",
       "Nebraska               4252096000   4491448000  315542  239352000   758.542444\n",
       "Minnesota             12377927000  12921241000  861905  543314000   630.364135"
      ]
     },
     "execution_count": 66,
     "metadata": {},
     "output_type": "execute_result"
    }
   ],
   "source": [
    "p2_data.sort_values(by=\"debt_per_st\",ascending=False).head(5)"
   ]
  },
  {
   "cell_type": "code",
   "execution_count": null,
   "metadata": {
    "collapsed": true
   },
   "outputs": [],
   "source": []
  },
  {
   "cell_type": "markdown",
   "metadata": {},
   "source": [
    "# Problem3"
   ]
  },
  {
   "cell_type": "code",
   "execution_count": 77,
   "metadata": {
    "collapsed": false,
    "scrolled": true
   },
   "outputs": [
    {
     "name": "stderr",
     "output_type": "stream",
     "text": [
      "C:\\Users\\hudie\\Anaconda3\\lib\\site-packages\\IPython\\core\\interactiveshell.py:2723: DtypeWarning: Columns (13,19,21,23,27,33,35,37,39,41,47,51,53,55,57,61,67,77,79,81,83,85,87,91,103,105,107,109,111,113,115,117,121,123,125,131,133,135,137,139,145,147,149,151,159,161,165,167,173,175,177,179,187,195,211,217,219,221,223,225,227,229) have mixed types. Specify dtype option on import or set low_memory=False.\n",
      "  interactivity=interactivity, compiler=compiler, result=result)\n"
     ]
    }
   ],
   "source": [
    "math_data = pd.read_csv(\"rla-achievement-sch-sy2015-16 (1).csv\")"
   ]
  },
  {
   "cell_type": "code",
   "execution_count": 87,
   "metadata": {
    "collapsed": false,
    "scrolled": true
   },
   "outputs": [
    {
     "data": {
      "text/plain": [
       "0       33\n",
       "1       31\n",
       "2       30\n",
       "3       36\n",
       "4       42\n",
       "5       27\n",
       "6    20-29\n",
       "7       25\n",
       "8    25-29\n",
       "9       22\n",
       "Name: ALL_RLA00PCTPROF_1516, dtype: object"
      ]
     },
     "execution_count": 87,
     "metadata": {},
     "output_type": "execute_result"
    }
   ],
   "source": [
    "#'ALL_RLA00PCTPROF_1516' is blurred and has range instead of numbers\n",
    "# we can transform the range to a number by impute as mean, then use the data\n",
    "math_data['ALL_RLA00PCTPROF_1516'].head(10)"
   ]
  },
  {
   "cell_type": "code",
   "execution_count": 133,
   "metadata": {
    "collapsed": false
   },
   "outputs": [],
   "source": [
    "def impute_as_mean(col):\n",
    "    new_col=[]\n",
    "    for x in col:\n",
    "        \n",
    "        x=x.split('-')\n",
    "        # check if value is a range, we inpute the mean\n",
    "        if len(x)>1:\n",
    "            low = int(x[0])\n",
    "            high = int(x[1])\n",
    "            mean = (low+high)/2\n",
    "            new_col.append(mean)\n",
    "        # check if le or ge in x, we impute the score after LE,GE\n",
    "        elif'L' in x[0] or 'G'in x[0]:\n",
    "            x=int(x[0][2:])\n",
    "            new_col.append(x)\n",
    "        # check if PS is in x, we don't have any information, then we impute a -1 to represent such missing case\n",
    "        elif'PS' in x:\n",
    "            x=-1\n",
    "        else:\n",
    "            new_col.append(int(x[0]))\n",
    "    return new_col"
   ]
  },
  {
   "cell_type": "code",
   "execution_count": 146,
   "metadata": {
    "collapsed": false
   },
   "outputs": [
    {
     "data": {
      "text/plain": [
       "[33,\n",
       " 31,\n",
       " 30,\n",
       " 36,\n",
       " 42,\n",
       " 27,\n",
       " 24.5,\n",
       " 25,\n",
       " 27.0,\n",
       " 22,\n",
       " 57.0,\n",
       " 37,\n",
       " 27.0,\n",
       " 42.0,\n",
       " 37,\n",
       " 25,\n",
       " 42.0,\n",
       " 61,\n",
       " 48,\n",
       " 68]"
      ]
     },
     "execution_count": 146,
     "metadata": {},
     "output_type": "execute_result"
    }
   ],
   "source": [
    "impute_as_mean(math_data['ALL_RLA00PCTPROF_1516'])[:20]"
   ]
  },
  {
   "cell_type": "code",
   "execution_count": 141,
   "metadata": {
    "collapsed": false
   },
   "outputs": [
    {
     "data": {
      "text/plain": [
       "(array([ 1822.,  5693.,  8423., 10334., 11624., 14828., 12869., 10631.,\n",
       "         7359.,  3351.]),\n",
       " array([ 1. , 10.8, 20.6, 30.4, 40.2, 50. , 59.8, 69.6, 79.4, 89.2, 99. ]),\n",
       " <a list of 10 Patch objects>)"
      ]
     },
     "execution_count": 141,
     "metadata": {},
     "output_type": "execute_result"
    },
    {
     "data": {
      "image/png": "[encoded data removed]",
      "text/plain": [
       "<matplotlib.figure.Figure at 0x22867e9b978>"
      ]
     },
     "metadata": {},
     "output_type": "display_data"
    }
   ],
   "source": [
    "plt.hist(impute_as_mean(math_data['ALL_RLA00PCTPROF_1516']))"
   ]
  },
  {
   "cell_type": "code",
   "execution_count": null,
   "metadata": {
    "collapsed": false
   },
   "outputs": [],
   "source": []
  },
  {
   "cell_type": "markdown",
   "metadata": {},
   "source": [
    "## Problem4 You are tasked with cutting 15% of the U.S. federal budget currently being spent on funding school districts. How much money is this? Choose which school districts will have their funding cut and how this will be done.\n",
    "\n",
    "### I suggest we first check how many schools that has revenue>expenditure, and do a equal funding cut for these schools to make the funding more efficient overall"
   ]
  },
  {
   "cell_type": "code",
   "execution_count": 148,
   "metadata": {
    "collapsed": false
   },
   "outputs": [
    {
     "name": "stderr",
     "output_type": "stream",
     "text": [
      "C:\\Users\\hudie\\Anaconda3\\lib\\site-packages\\IPython\\core\\interactiveshell.py:2723: DtypeWarning: Columns (0,3) have mixed types. Specify dtype option on import or set low_memory=False.\n",
      "  interactivity=interactivity, compiler=compiler, result=result)\n"
     ]
    },
    {
     "data": {
      "text/plain": [
       "8340411300.0"
      ]
     },
     "execution_count": 148,
     "metadata": {},
     "output_type": "execute_result"
    }
   ],
   "source": [
    "# read raw fiscal dta\n",
    "fiscal_data=pd.read_csv(\"Sdf16_1a.txt\", sep='\\t')\n",
    "#drop missing and na for revenue\n",
    "fiscal_data= fiscal_data[fiscal_data.TFEDREV > 0]\n",
    "0.15*sum(fiscal_data.TFEDREV)"
   ]
  },
  {
   "cell_type": "code",
   "execution_count": 157,
   "metadata": {
    "collapsed": false
   },
   "outputs": [
    {
     "data": {
      "text/plain": [
       "475      Akimel O'Otham Pee Posh Charter School Inc. 1\n",
       "2747                      EASTERN CONNECTICUT REGIONAL\n",
       "2811                              EDUCATION CONNECTION\n",
       "2878                     COMMITTEE FOR SHARED SERVICES\n",
       "4539                  Greater Randolph Interlocal Coop\n",
       "4633                   Ripley-Ohio-Dearborn Sp Ed Coop\n",
       "7676                                        Wayne RESA\n",
       "10857                            WALATOWA CHARTER HIGH\n",
       "12335                              GRAND FORKS AFB 140\n",
       "12529                                    MINOT AFB 160\n",
       "15845                  REG 10 EDUCATION SERVICE CENTER\n",
       "15870                  REG 18 EDUCATION SERVICE CENTER\n",
       "17199                          Barre Supervisory Union\n",
       "Name: NAME, dtype: object"
      ]
     },
     "execution_count": 157,
     "metadata": {},
     "output_type": "execute_result"
    }
   ],
   "source": [
    "fiscal_data[fiscal_data['TFEDREV']>fiscal_data['TOTALEXP']].NAME\n",
    "#So we find there are only 13 schools that has funding>expenditure, thus it's not reasonable to do the whole funding cut on these ones\n",
    "# we can first do a part of funding cut on these schools, then do a equal funding cut on all schools remaning, untill we get our\n",
    "# 8340411300.0 funding cut goal"
   ]
  },
  {
   "cell_type": "markdown",
   "metadata": {},
   "source": [
    "## Problem5\n",
    "### I suggest we first check how many schools that has revenue>expenditure, and do a major funding cut for these schools to make the funding more efficient for our fiscal year. However, since we find there are only 13 schools that has rev>expenditure, it's not reasonable to only cut these small amount of schools. Thus, we can rely on other measurement, for example, we want cut fundings by counting student's debt, we will cut fundings for those schools that has lower student debt first."
   ]
  },
  {
   "cell_type": "code",
   "execution_count": null,
   "metadata": {
    "collapsed": true
   },
   "outputs": [],
   "source": []
  }
 ],
 "metadata": {
  "kernelspec": {
   "display_name": "Python [Root]",
   "language": "python",
   "name": "Python [Root]"
  },
  "language_info": {
   "codemirror_mode": {
    "name": "ipython",
    "version": 3
   },
   "file_extension": ".py",
   "mimetype": "text/x-python",
   "name": "python",
   "nbconvert_exporter": "python",
   "pygments_lexer": "ipython3",
   "version": "3.5.2"
  }
 },
 "nbformat": 4,
 "nbformat_minor": 0
}
